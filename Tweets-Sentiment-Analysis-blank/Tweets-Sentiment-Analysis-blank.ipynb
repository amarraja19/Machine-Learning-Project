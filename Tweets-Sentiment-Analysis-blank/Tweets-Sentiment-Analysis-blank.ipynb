{
 "cells": [
  {
   "cell_type": "code",
   "execution_count": 1,
   "metadata": {},
   "outputs": [
    {
     "name": "stdout",
     "output_type": "stream",
     "text": [
      "Collecting tweepy\n",
      "  Downloading tweepy-3.10.0-py2.py3-none-any.whl (30 kB)\n",
      "Requirement already satisfied: six>=1.10.0 in c:\\users\\suhai\\anaconda3\\lib\\site-packages (from tweepy) (1.15.0)\n",
      "Requirement already satisfied: requests-oauthlib>=0.7.0 in c:\\users\\suhai\\anaconda3\\lib\\site-packages (from tweepy) (1.3.0)\n",
      "Requirement already satisfied: requests[socks]>=2.11.1 in c:\\users\\suhai\\anaconda3\\lib\\site-packages (from tweepy) (2.24.0)\n",
      "Requirement already satisfied: oauthlib>=3.0.0 in c:\\users\\suhai\\anaconda3\\lib\\site-packages (from requests-oauthlib>=0.7.0->tweepy) (3.1.0)\n",
      "Requirement already satisfied: idna<3,>=2.5 in c:\\users\\suhai\\anaconda3\\lib\\site-packages (from requests[socks]>=2.11.1->tweepy) (2.10)\n",
      "Requirement already satisfied: certifi>=2017.4.17 in c:\\users\\suhai\\anaconda3\\lib\\site-packages (from requests[socks]>=2.11.1->tweepy) (2020.12.5)\n",
      "Requirement already satisfied: urllib3!=1.25.0,!=1.25.1,<1.26,>=1.21.1 in c:\\users\\suhai\\anaconda3\\lib\\site-packages (from requests[socks]>=2.11.1->tweepy) (1.25.9)\n",
      "Requirement already satisfied: chardet<4,>=3.0.2 in c:\\users\\suhai\\anaconda3\\lib\\site-packages (from requests[socks]>=2.11.1->tweepy) (3.0.4)\n",
      "Requirement already satisfied: PySocks!=1.5.7,>=1.5.6; extra == \"socks\" in c:\\users\\suhai\\anaconda3\\lib\\site-packages (from requests[socks]>=2.11.1->tweepy) (1.7.1)\n",
      "Installing collected packages: tweepy\n",
      "Successfully installed tweepy-3.10.0\n",
      "Requirement already satisfied: textblob in c:\\users\\suhai\\anaconda3\\lib\\site-packages (0.15.3)\n",
      "Requirement already satisfied: nltk>=3.1 in c:\\users\\suhai\\anaconda3\\lib\\site-packages (from textblob) (3.5)\n",
      "Requirement already satisfied: regex in c:\\users\\suhai\\anaconda3\\lib\\site-packages (from nltk>=3.1->textblob) (2020.6.8)\n",
      "Requirement already satisfied: click in c:\\users\\suhai\\anaconda3\\lib\\site-packages (from nltk>=3.1->textblob) (7.1.2)\n",
      "Requirement already satisfied: joblib in c:\\users\\suhai\\anaconda3\\lib\\site-packages (from nltk>=3.1->textblob) (0.16.0)\n",
      "Requirement already satisfied: tqdm in c:\\users\\suhai\\anaconda3\\lib\\site-packages (from nltk>=3.1->textblob) (4.47.0)\n"
     ]
    }
   ],
   "source": [
    "!pip install tweepy\n",
    "!pip install textblob"
   ]
  },
  {
   "cell_type": "code",
   "execution_count": 2,
   "metadata": {},
   "outputs": [],
   "source": [
    "import re # regular expression / regex\n",
    "import tweepy #Collect tweets\n",
    "from tweepy import OAuthHandler # Authentication\n",
    "from textblob import TextBlob # provides text mining, text analysis and text processing modules"
   ]
  },
  {
   "cell_type": "code",
   "execution_count": 3,
   "metadata": {},
   "outputs": [],
   "source": [
    "# keys and tokens from the Twitter Dev Console\n",
    "consumer_key = 'FtfpsrQMaF38UjadKfOslZduZ'\n",
    "consumer_secret = '6YvIO1yiRxqGHd51Qg3294Ng6QegEpWL7PPoB552SrZroTzXoz'\n",
    "access_token = '279902624-GLjhDg1GyHzq8xOspXpkCgvZ0GpQFQAnH94TPHjl'\n",
    "access_token_secret = 'wsjhxyWKZ8Aa0vqDqt1zyOsCEVUyCs1utqu7egZbGd3ll'\n",
    "# create OAuthHandler object\n",
    "auth = OAuthHandler(consumer_key, consumer_secret)\n",
    "# set access token and secret\n",
    "auth.set_access_token(access_token, access_token_secret)\n",
    "# create tweepy API object to fetch tweets\n",
    "api = tweepy.API(auth)\n",
    "\n",
    "def get_sentiment(tweet):\n",
    "    analysis = TextBlob(tweet)\n",
    "    if analysis.sentiment.polarity > 0:\n",
    "        return 'positive'\n",
    "    elif analysis.sentiment.polarity <0:\n",
    "        return 'negative'\n",
    "    else:\n",
    "        return 'neutral'\n",
    "\n",
    "def get_tweets(query):\n",
    " \n",
    "    tweets = []\n",
    "\n",
    "    # call twitter api to fetch tweets\n",
    "    fetched_tweets = api.search(query,count=1000)\n",
    "\n",
    "    for tweet in fetched_tweets:\n",
    "        # empty dictionary to store required params of a tweet\n",
    "        parsed_tweet = {}\n",
    "\n",
    "        # saving text of tweet\n",
    "        parsed_tweet['text'] = tweet.text\n",
    "        # saving sentiment of tweet\n",
    "        parsed_tweet['sentiment'] = get_sentiment(tweet.text)\n",
    "\n",
    "        # appending parsed tweet to tweets list\n",
    "        if tweet.retweet_count > 0:\n",
    "            # if tweet has retweets, ensure that it is appended only once\n",
    "            if parsed_tweet not in tweets:\n",
    "                tweets.append(parsed_tweet)\n",
    "        else:\n",
    "            tweets.append(parsed_tweet)\n",
    "\n",
    "    # return parsed tweets\n",
    "    return tweets\n",
    "\n",
    "\n",
    "def analyze(querytext):\n",
    "    tweets = get_tweets(query = querytext)\n",
    "    print(\"Queries Text : \", querytext)\n",
    "    # picking positive tweets from tweets\n",
    "    ptweets = [tweet for tweet in tweets if tweet['sentiment'] == 'positive']\n",
    "    # percentage of positive tweets\n",
    "    print(\"Positive tweets percentage: {} %\".format(100*len(ptweets)/len(tweets)))\n",
    "    # picking negative tweets from tweets\n",
    "    ntweets = [tweet for tweet in tweets if tweet['sentiment'] == 'negative']\n",
    "    # percentage of negative tweets\n",
    "    print(\"Negative tweets percentage: {} %\".format(100*len(ntweets)/len(tweets)))\n",
    "    # percentage of neutral tweets\n",
    "    print(\"Neutral tweets percentage: {} %\".format(100*(len(tweets) - len(ntweets) - len(ptweets))/len(tweets)))\n",
    "    print(\"\\n\\n Total Tweets:\",len(tweets))\n",
    "    # printing first 5 positive tweets\n",
    "    print(\"\\n\\nPositive tweets:\")\n",
    "    for tweet in ptweets[:5]:\n",
    "        print(tweet['text'])\n",
    " \n",
    "    # printing first 5 negative tweets\n",
    "    print(\"\\n\\nNegative tweets:\")\n",
    "    for tweet in ntweets[:5]:\n",
    "        print(tweet['text'])"
   ]
  },
  {
   "cell_type": "code",
   "execution_count": 13,
   "metadata": {},
   "outputs": [
    {
     "name": "stdout",
     "output_type": "stream",
     "text": [
      "Queries Text :  potato\n",
      "Positive tweets percentage: 13.402061855670103 %\n",
      "Negative tweets percentage: 1.0309278350515463 %\n",
      "Neutral tweets percentage: 85.56701030927834 %\n",
      "\n",
      "\n",
      " Total Tweets: 97\n",
      "\n",
      "\n",
      "Positive tweets:\n",
      "RT @Cosmicflaming0: How to eat sweet potato fries https://t.co/MEygK0GHxT\n",
      "@hw27224574 It's sweet potato paste combined with sweetened chestnuts!\n",
      "@ATIFx_x M yh b de dngi naa lol (yh alg bt mjhy phly chocolates chahiye)\n",
      "@redskin_potato @dugless1ders Sticking to he’s beautiful roots.\n",
      "@spinoffprotag tw//food \n",
      "\n",
      "YOUR LAST MEAL OF 2020 WAS A SWEET POTATO\n",
      "\n",
      "\n",
      "Negative tweets:\n",
      "RT @MrTeddyTedster: Everyone stop what you’re doing and take a look at teddy when he was a little potato. https://t.co/WU6PwsR3vn\n"
     ]
    }
   ],
   "source": [
    "analyze('potato')"
   ]
  },
  {
   "cell_type": "code",
   "execution_count": null,
   "metadata": {},
   "outputs": [],
   "source": []
  },
  {
   "cell_type": "code",
   "execution_count": null,
   "metadata": {},
   "outputs": [],
   "source": []
  },
  {
   "cell_type": "code",
   "execution_count": null,
   "metadata": {},
   "outputs": [],
   "source": []
  },
  {
   "cell_type": "code",
   "execution_count": null,
   "metadata": {},
   "outputs": [],
   "source": []
  },
  {
   "cell_type": "code",
   "execution_count": null,
   "metadata": {},
   "outputs": [],
   "source": []
  },
  {
   "cell_type": "code",
   "execution_count": null,
   "metadata": {},
   "outputs": [],
   "source": []
  },
  {
   "cell_type": "code",
   "execution_count": null,
   "metadata": {},
   "outputs": [],
   "source": []
  },
  {
   "cell_type": "code",
   "execution_count": null,
   "metadata": {},
   "outputs": [],
   "source": []
  }
 ],
 "metadata": {
  "kernelspec": {
   "display_name": "Python 3",
   "language": "python",
   "name": "python3"
  },
  "language_info": {
   "codemirror_mode": {
    "name": "ipython",
    "version": 3
   },
   "file_extension": ".py",
   "mimetype": "text/x-python",
   "name": "python",
   "nbconvert_exporter": "python",
   "pygments_lexer": "ipython3",
   "version": "3.8.5"
  }
 },
 "nbformat": 4,
 "nbformat_minor": 4
}
